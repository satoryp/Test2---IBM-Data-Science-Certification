{
 "cells": [
  {
   "cell_type": "markdown",
   "id": "2d96df75-aecd-407f-abda-8f06a98b8df1",
   "metadata": {},
   "source": [
    "# Data Science Tools and Ecosystem"
   ]
  },
  {
   "cell_type": "markdown",
   "id": "6c7aa665-e40e-4167-a074-fba4fd49db7d",
   "metadata": {
    "tags": []
   },
   "source": [
    "In this notebook, Data Science Tools and Ecosystem are summarized."
   ]
  },
  {
   "cell_type": "markdown",
   "id": "70af5996-6077-488c-8079-b1923d5fe6ba",
   "metadata": {},
   "source": [
    "**Objectives:**"
   ]
  },
  {
   "cell_type": "markdown",
   "id": "a6ab2268-2722-4d67-8baf-e745239f8466",
   "metadata": {},
   "source": [
    "-Create a Jupyter Notebook\n",
    "-Insert code and markdown cells\n",
    "-Share your notebook through GitHub"
   ]
  },
  {
   "cell_type": "markdown",
   "id": "1a2a7abc-0264-478d-9dab-ec8cf82d75b2",
   "metadata": {
    "tags": []
   },
   "source": [
    "## Some of the commonly used languages used by Data Scientists include:"
   ]
  },
  {
   "cell_type": "markdown",
   "id": "12fd7bbe-391a-4a0c-98df-aa82156187cb",
   "metadata": {
    "tags": []
   },
   "source": [
    "1. R\n",
    "2. Python\n",
    "3. SQL"
   ]
  },
  {
   "cell_type": "markdown",
   "id": "8c0d3691-a2b0-4d70-b26c-83374ef04f18",
   "metadata": {
    "tags": []
   },
   "source": [
    "## Some of the commonly used libraries used by Data Scientists include:"
   ]
  },
  {
   "cell_type": "markdown",
   "id": "f73910a1-808d-4ee6-8069-a2c5fef3d286",
   "metadata": {},
   "source": [
    "1. Pandas\n",
    "2. Numbpy\n",
    "3. PyTorch\n",
    "4. Matplotlib"
   ]
  },
  {
   "cell_type": "markdown",
   "id": "810a0fc2-5932-40da-b5d7-5d690dd693b6",
   "metadata": {},
   "source": [
    "| Data Science Tools |\n",
    "| ------------------ |\n",
    "| Jupyter Labs |\n",
    "| RStudio |\n",
    "| Apache Hadoop |"
   ]
  },
  {
   "cell_type": "markdown",
   "id": "14baeb03-8b21-49d7-b4e9-1c46ec4f0a1f",
   "metadata": {
    "tags": []
   },
   "source": [
    "### Below are a few examples of evaluating arithmetic expressions in Python"
   ]
  },
  {
   "cell_type": "markdown",
   "id": "e803bc4a-d94e-4864-a1e1-b41505b219d0",
   "metadata": {
    "tags": []
   },
   "source": [
    "#This a simple arithmetic expression to mutiply then add integers"
   ]
  },
  {
   "cell_type": "code",
   "execution_count": 9,
   "id": "2584826a-90ae-4ccf-b217-94691408e73e",
   "metadata": {
    "tags": []
   },
   "outputs": [
    {
     "data": {
      "text/plain": [
       "17"
      ]
     },
     "execution_count": 9,
     "metadata": {},
     "output_type": "execute_result"
    }
   ],
   "source": [
    "(3*4)+5"
   ]
  },
  {
   "cell_type": "markdown",
   "id": "53461f3f-0532-4fd5-87f2-f90d754a97a5",
   "metadata": {},
   "source": [
    "This will convert 200 minutes to hours by diving by 60"
   ]
  },
  {
   "cell_type": "code",
   "execution_count": 10,
   "id": "18cc4f98-eb5b-4990-af06-0ade83140cbb",
   "metadata": {
    "tags": []
   },
   "outputs": [
    {
     "data": {
      "text/plain": [
       "3.3333333333333335"
      ]
     },
     "execution_count": 10,
     "metadata": {},
     "output_type": "execute_result"
    }
   ],
   "source": [
    "200/60"
   ]
  },
  {
   "cell_type": "markdown",
   "id": "4df50403-a91d-40ca-bed7-18ce4bdb45d3",
   "metadata": {
    "tags": []
   },
   "source": [
    "## Author\n",
    "Satory Palmer"
   ]
  }
 ],
 "metadata": {
  "kernelspec": {
   "display_name": "Python",
   "language": "python",
   "name": "conda-env-python-py"
  },
  "language_info": {
   "codemirror_mode": {
    "name": "ipython",
    "version": 3
   },
   "file_extension": ".py",
   "mimetype": "text/x-python",
   "name": "python",
   "nbconvert_exporter": "python",
   "pygments_lexer": "ipython3",
   "version": "3.7.12"
  }
 },
 "nbformat": 4,
 "nbformat_minor": 5
}
